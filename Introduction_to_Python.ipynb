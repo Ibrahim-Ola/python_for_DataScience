{
 "cells": [
  {
   "cell_type": "markdown",
   "id": "2480d30a-d8fe-4489-b8d6-3acfc2a10e8b",
   "metadata": {
    "tags": []
   },
   "source": [
    "<h2 align=\"center\"> Introduction to Python </h2> \n",
    "<h3 align=\"center\"> Author: Ibrahim O Alabi PhDc </h3>\n",
    "\n",
    "This notebook is part of my series on Introduction to Python for Data Science. This is my way of contributing to open source knowledge. If you find this content useful, please consider leaving a **star** on this repository.\n",
    "\n",
    "---"
   ]
  },
  {
   "cell_type": "markdown",
   "id": "a27bbf9e-ae6f-45e0-ab65-85298163447d",
   "metadata": {},
   "source": [
    "## Background\n",
    "\n",
    "To keep things simple, Python is a formal language initially developed by Guido Van Rossum in the 1980s. In other words, Python is an artificial language designed by humans with a defined syntax to tell a computer what to do."
   ]
  },
  {
   "cell_type": "markdown",
   "id": "5017c98a-f764-4f89-bf3b-ad1aa83f1475",
   "metadata": {
    "tags": []
   },
   "source": [
    "## Why Should I use Python\n",
    "\n",
    "Some of the many reasons why you should use Python are:\n",
    "\n",
    "1. **Python is multi-platform**: it runs equally well on the three most popular Opeating Systems: Windows, Macintosh, and Linux.\n",
    "2. **Python is free**: you don't have to pay to download, install, and use Python functionalities. \n",
    "3. **Python is open source**: Python is not only free to use, but also, Python users have access to the source code and can modify, improve, and extend their functionalities.\n",
    "4. **Python is easy to read**: It is often recommended that newbie programmers start by learning Python because Python reads almost like the English Language (no pun intended!). In other words, Python is easy to understand even for new programmers.\n",
    "5. **Python is a batteries-included language**: this means that Python's standard library is versatile that you can do real work without the need for external libraries. \n",
    "\n",
    "\n",
    "**Note**: There is no such thing as a perfect programming language. That is to say, Python has its flaws too. However, Python holds the lead in the data science department, and you won't go wrong by learning data science with Python."
   ]
  },
  {
   "cell_type": "markdown",
   "id": "3236d7c7-1716-4b68-8038-a9a82ce94097",
   "metadata": {},
   "source": [
    "## Installing Python\n",
    "\n",
    "Installing [Anaconda](https://www.anaconda.com/about-us) will be enough to carry on with the rest of the series. To install Anconda for your operating system, follow the steps below:\n",
    "\n",
    "1. Download Anaconda installer for your operating system using [this link](https://www.anaconda.com/products/distribution).\n",
    "2. Install Anaconda:\n",
    "    * For Linux: see [this link](https://docs.anaconda.com/anaconda/install/linux/) for installation instructions.\n",
    "    * For Macintosh: see [this link](https://docs.anaconda.com/anaconda/install/mac-os/) for installation instructions.\n",
    "    * For Windows: see [this link](https://docs.anaconda.com/anaconda/install/windows/) for installation instructions."
   ]
  },
  {
   "cell_type": "markdown",
   "id": "b14e6d8f-18a6-4498-8441-f12dbf57afd1",
   "metadata": {},
   "source": [
    "## Python Basics\n",
    "\n",
    "### Object Assignment\n",
    "\n",
    "Just like many programming languages, assignment in Python is made using `=` symbol. In the code cell below, 'Hello World!' is assigned to `my_first_program`. In programming terms, `my_first_program` is called a **variable**."
   ]
  },
  {
   "cell_type": "code",
   "execution_count": 1,
   "id": "fbc940e0-6dbe-4467-8480-fd8347a87758",
   "metadata": {},
   "outputs": [],
   "source": [
    "my_first_program = 'Hello World!'"
   ]
  },
  {
   "cell_type": "markdown",
   "id": "299398eb-15df-4deb-b5e9-4de19175dfa4",
   "metadata": {},
   "source": [
    "### Describing your codes - \"adding comments\" \n",
    "\n",
    "We add descriptions to our codes in Python using the `#` symbol. The Python Interpreter ignores anything following the `#` symbol. The only exception is when `#` is used inside quotations, which is just a character of that string. We will discuss more about strings in the future. "
   ]
  },
  {
   "cell_type": "markdown",
   "id": "91bb0b98-2923-4a6d-8c7c-0cd0cac4850b",
   "metadata": {
    "tags": []
   },
   "source": [
    "### Python Variables\n",
    "\n",
    "In Python, variables are used to store data. They can be created by simply assigning any desired value/data to it."
   ]
  },
  {
   "cell_type": "code",
   "execution_count": 2,
   "id": "867dc7a2-54d2-401c-a74a-61e8a5c79d5b",
   "metadata": {},
   "outputs": [],
   "source": [
    "country='USA' # country is a variable\n",
    "salary=350000 # salary is variable"
   ]
  },
  {
   "cell_type": "markdown",
   "id": "04c55934-1521-4a4f-9697-d66d5150a559",
   "metadata": {},
   "source": [
    "### Rules for naming variables in Python\n",
    "\n",
    "1. Variable names can only start with a letter or an underscore character. \n",
    "2. Variable names are case sensitive e.g. 'A' and 'a' are not the same.\n",
    "3. Varaible names can only contain underscores, alphabets, or numeric characteristics. No other special charaters areallowed.\n",
    "4. Varable names have no fixed length; they could be as short as a Single Alphabet, or as long as you need them to be."
   ]
  },
  {
   "cell_type": "code",
   "execution_count": 5,
   "id": "8cfea9d0-b430-4841-b297-f52090f49125",
   "metadata": {},
   "outputs": [],
   "source": [
    "_=200 # _ is a valid variable name\n",
    "\n",
    "mixed_name_1=5.0 # mixed_name_1 is a valid variable name"
   ]
  },
  {
   "cell_type": "code",
   "execution_count": 6,
   "id": "3b585b94-ea97-4322-880e-c97b0b0f0124",
   "metadata": {},
   "outputs": [
    {
     "ename": "SyntaxError",
     "evalue": "invalid syntax (3883317177.py, line 1)",
     "output_type": "error",
     "traceback": [
      "\u001b[0;36m  File \u001b[0;32m\"/tmp/ipykernel_29270/3883317177.py\"\u001b[0;36m, line \u001b[0;32m1\u001b[0m\n\u001b[0;31m    1A='Invalid' # 1A is not a valid variable name\u001b[0m\n\u001b[0m     ^\u001b[0m\n\u001b[0;31mSyntaxError\u001b[0m\u001b[0;31m:\u001b[0m invalid syntax\n"
     ]
    }
   ],
   "source": [
    "1A='Invalid' # 1A is not a valid variable name"
   ]
  },
  {
   "cell_type": "markdown",
   "id": "f8e0b64a-a22c-4fcd-a7be-38cbc7491ef3",
   "metadata": {},
   "source": [
    "### Getting the contents of your variables - printing\n",
    "\n",
    "In Python, we get the content of a variable using the `print` statement."
   ]
  },
  {
   "cell_type": "code",
   "execution_count": 7,
   "id": "54839a50-3764-4ad8-9969-31819fce1ba0",
   "metadata": {},
   "outputs": [
    {
     "name": "stdout",
     "output_type": "stream",
     "text": [
      "USA\n",
      "350000\n",
      "200\n",
      "5.0\n"
     ]
    }
   ],
   "source": [
    "print(country)\n",
    "print(salary)\n",
    "print(_)\n",
    "print(mixed_name_1)"
   ]
  },
  {
   "cell_type": "markdown",
   "id": "5d14cb16-994c-42c7-a6ea-193a04926e45",
   "metadata": {},
   "source": [
    "* We can also assign *distinct* values to multiple variables using a single line of code."
   ]
  },
  {
   "cell_type": "code",
   "execution_count": 8,
   "id": "2b73f2fe-efca-40de-b622-a153b3199bfb",
   "metadata": {},
   "outputs": [
    {
     "name": "stdout",
     "output_type": "stream",
     "text": [
      "USA\n",
      "Canada\n"
     ]
    }
   ],
   "source": [
    "country1, country2 = 'USA', 'Canada'\n",
    "print(country1)\n",
    "print(country2)"
   ]
  },
  {
   "cell_type": "markdown",
   "id": "23de2f1f-931c-4892-85c9-3e2fc52930d7",
   "metadata": {},
   "source": [
    "### Python Data Types\n",
    "\n",
    "In programming, data types specify the type of value a variable holds and the types of operations (mathematical, logical, or others) we can do on them. In Python, we use the `type` to get the data type of a variable.\n",
    "\n",
    "Python's built-in data types are:\n",
    "\n",
    "1. Numbers\n",
    "    * Integer: positive and negative whole numbers including zero. For example -1, 0, 54.\n",
    "    * float: decimal numbers. For example -34.6, 0.58.\n",
    "    * Boolean: True, False.\n",
    "    * complex: numbers with real and imaginary parts.\n",
    "    \n",
    "2. Strings\n",
    "3. Lists\n",
    "4. Tuples\n",
    "5. Dictionaries\n",
    "6. Sets\n",
    "7. File objects\n",
    "\n",
    "Note: in programming `True` and `False` are `1` and `0` respectively. The only exception is when used inside a string. We will extensively treat all data types (except Numbers because it is straightforward) in the coming notebooks. For now, we will give a few examples of each data type."
   ]
  },
  {
   "cell_type": "markdown",
   "id": "e39b274b-d51a-4820-9205-fd1e984be6dc",
   "metadata": {},
   "source": [
    "#### Numbers"
   ]
  },
  {
   "cell_type": "code",
   "execution_count": 20,
   "id": "3d06dfc5-d064-4f9f-a7ae-29d133a13c30",
   "metadata": {},
   "outputs": [
    {
     "name": "stdout",
     "output_type": "stream",
     "text": [
      "0 <class 'int'>\n",
      "-34.6 <class 'float'>\n",
      "True <class 'bool'>\n",
      "(-2-78j) <class 'complex'>\n"
     ]
    }
   ],
   "source": [
    "x=0                  # x is an integer\n",
    "print(x, type(x))\n",
    "\n",
    "x=-34.6              # x is float\n",
    "print(x, type(x))\n",
    "\n",
    "x=True              # x is boolean\n",
    "print(x, type(x))\n",
    "\n",
    "x=-2-78j              # x is complex\n",
    "print(x, type(x))"
   ]
  },
  {
   "cell_type": "markdown",
   "id": "d57b29e6-b72f-448c-bb7e-238944e0a77d",
   "metadata": {},
   "source": [
    "#### Strings\n",
    "\n",
    "Anything embedded in quotation marks are called strings in Python. Quotations could be:\n",
    "\n",
    "1. Single (' '),\n",
    "2. Double (\" \"),\n",
    "3. Triple Single (''' '''), or\n",
    "4. Triple Double (\"\"\" \"\"\")\n",
    "\n",
    "The advantage of triple quotations (sing;e or double) is that it can be used as multiple line comments. "
   ]
  },
  {
   "cell_type": "code",
   "execution_count": 22,
   "id": "68fc73f8-343f-4c6a-bd51-9ca971b353a5",
   "metadata": {},
   "outputs": [
    {
     "name": "stdout",
     "output_type": "stream",
     "text": [
      "United States of America! <class 'str'>\n",
      "Double quotes also works <class 'str'>\n",
      "This is also a string <class 'str'>\n",
      "This again,\n",
      "is string <class 'str'>\n"
     ]
    }
   ],
   "source": [
    "country='United States of America!'   # country is a string\n",
    "print(country, type(country))\n",
    "\n",
    "z=\"Double quotes also works\"          # z is a string\n",
    "print(z, type(z))\n",
    "\n",
    "y='''This is also a string'''         # y is a string\n",
    "print(y, type(y))\n",
    "\n",
    "yy=\"\"\"This again,\n",
    "is string\"\"\"                          # yy is a string\n",
    "print(yy, type(yy))"
   ]
  },
  {
   "cell_type": "markdown",
   "id": "02880c2a-4cfa-4b0b-8e9e-d1d384925e79",
   "metadata": {
    "tags": []
   },
   "source": [
    "#### Lists\n",
    "\n",
    "You can think of a list as a container. It can contain a single data type or a mix of the data types."
   ]
  },
  {
   "cell_type": "code",
   "execution_count": 24,
   "id": "9f6ba958-5b11-41da-a60d-17bdf96b2f03",
   "metadata": {},
   "outputs": [
    {
     "name": "stdout",
     "output_type": "stream",
     "text": [
      "['Rice', 'Cheese', 'Water Melon'] <class 'list'>\n",
      "[1, True, False, 'Mixed', 22.89] <class 'list'>\n"
     ]
    }
   ],
   "source": [
    "grocery_list=['Rice', 'Cheese', 'Water Melon']\n",
    "print(grocery_list, type(grocery_list))\n",
    "\n",
    "mixed_list=[1, True, False, 'Mixed', 22.89]\n",
    "print(mixed_list, type(mixed_list))"
   ]
  },
  {
   "cell_type": "markdown",
   "id": "1a93233a-9f44-488a-bdb4-6088de622382",
   "metadata": {},
   "source": [
    "#### Tuples\n",
    "\n",
    "Tuple is the same as a list except that it is embedded in **parentheses**. One key feature that distinguishes a tuple from a list is **immutability**. Tuples are immutable - that is, they can not be modified after creation."
   ]
  },
  {
   "cell_type": "code",
   "execution_count": 26,
   "id": "984f5faa-b3f5-4be3-998a-ab5a5c445283",
   "metadata": {},
   "outputs": [
    {
     "name": "stdout",
     "output_type": "stream",
     "text": [
      "('Rice', 'Cheese', 'Water Melon') <class 'tuple'>\n",
      "(1, True, False, 'Mixed', 22.89) <class 'tuple'>\n"
     ]
    }
   ],
   "source": [
    "grocery_tuple=('Rice', 'Cheese', 'Water Melon')\n",
    "print(grocery_tuple, type(grocery_tuple))\n",
    "\n",
    "mixed_tuple=(1, True, False, 'Mixed', 22.89)\n",
    "print(mixed_tuple, type(mixed_tuple))"
   ]
  },
  {
   "cell_type": "markdown",
   "id": "6acf68e2-8861-40ae-8d27-45bcac9fd4ec",
   "metadata": {},
   "source": [
    "#### Dictionaries\n",
    "\n",
    "Dictionaries are data types that store data in key: value pairs."
   ]
  },
  {
   "cell_type": "code",
   "execution_count": 31,
   "id": "0389c5b8-8072-4e79-90bc-8e43951dbcae",
   "metadata": {},
   "outputs": [
    {
     "name": "stdout",
     "output_type": "stream",
     "text": [
      "{'Name': 'Jessica', 'Country': 'Ireland', 'Age': 18, 'Hair Color': 'Black'} <class 'dict'>\n",
      "Keys: dict_keys(['Name', 'Country', 'Age', 'Hair Color'])\n",
      "Values: dict_values(['Jessica', 'Ireland', 18, 'Black'])\n"
     ]
    }
   ],
   "source": [
    "dict_of_characteristics = {\n",
    "    'Name': 'Jessica',\n",
    "    'Country': 'Ireland',\n",
    "    'Age': 18,\n",
    "    'Hair Color': 'Black'\n",
    "}\n",
    "\n",
    "print(dict_of_characteristics, type(dict_of_characteristics))\n",
    "print('Keys:', dict_of_characteristics.keys())\n",
    "print('Values:', dict_of_characteristics.values())"
   ]
  },
  {
   "cell_type": "markdown",
   "id": "a9253e28-c87c-4082-bd75-356d6a106b32",
   "metadata": {},
   "source": [
    "#### Sets\n",
    "\n",
    "Sets are data types we use when uniqueness is all that matters. In other words, sets return unique unordered elements in a collection.  "
   ]
  },
  {
   "cell_type": "code",
   "execution_count": 32,
   "id": "e2c6fe05-7754-496a-b8a1-2c3b897e6300",
   "metadata": {},
   "outputs": [
    {
     "name": "stdout",
     "output_type": "stream",
     "text": [
      "{1, 2, 3, 4} <class 'set'>\n"
     ]
    }
   ],
   "source": [
    "set_a={1,2,2,2,1,3,4}\n",
    "print(set_a, type(set_a)) ## you get the uniques values and not the number of times they occur"
   ]
  },
  {
   "cell_type": "markdown",
   "id": "dd92680d-0287-4849-b3ce-01cce0c78063",
   "metadata": {},
   "source": [
    "## Summary\n",
    "\n",
    "In this notebook:\n",
    "\n",
    "* We introduced Python and gave a link to a well-documented instructions on how to install it.\n",
    "* We introduced variables and data types\n",
    "* We introduced some basic Python commands such as print, #"
   ]
  }
 ],
 "metadata": {
  "kernelspec": {
   "display_name": "Python 3 (ipykernel)",
   "language": "python",
   "name": "python3"
  },
  "language_info": {
   "codemirror_mode": {
    "name": "ipython",
    "version": 3
   },
   "file_extension": ".py",
   "mimetype": "text/x-python",
   "name": "python",
   "nbconvert_exporter": "python",
   "pygments_lexer": "ipython3",
   "version": "3.9.7"
  }
 },
 "nbformat": 4,
 "nbformat_minor": 5
}
